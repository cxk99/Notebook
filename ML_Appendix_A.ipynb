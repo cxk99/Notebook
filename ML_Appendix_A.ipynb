{
 "cells": [
  {
   "cell_type": "markdown",
   "metadata": {},
   "source": [
    "# Machine Learning Notes (Appendix A)"
   ]
  },
  {
   "cell_type": "markdown",
   "metadata": {},
   "source": [
    "## A.29的推导"
   ]
  },
  {
   "cell_type": "markdown",
   "metadata": {},
   "source": [
    "\\begin{align*}\n",
    " \\frac{\\partial tr(\\mathbf{ABA^T})}{\\partial \\mathbf{A}} = \\mathbf{A(B+B^T)}\n",
    "\\end{align*}\n"
   ]
  },
  {
   "cell_type": "markdown",
   "metadata": {},
   "source": [
    "**proof**"
   ]
  },
  {
   "cell_type": "markdown",
   "metadata": {},
   "source": [
    "\\begin{align*}\n",
    "    \\newcommand{\\myd}{\\mathrm{d}}\n",
    "    \\newcommand{\\mtr}{\\mathrm{tr}}\n",
    "    \\myd \\; \\mtr(\\mathbf{ABA^T}) &= \\mtr\\big(\\myd(\\mathbf{ABA^T})\\big) \\\\\n",
    "    &= \\mtr\\big((\\myd \\mathbf{A}) \\mathbf{BA^T} + \\mathbf{AB}\\myd \\mathbf{A^T} \\big) \\\\\n",
    "    &= \\mtr\\big((\\myd \\mathbf{A}) \\mathbf{BA^T}\\big) + \\mtr \\big(\\mathbf{AB}(\\myd \\mathbf{A})^T \\big) \\\\\n",
    "    &= \\mtr\\big( \\mathbf{BA^T} \\myd \\mathbf{A} \\big) + \\mtr \\big((\\myd \\mathbf{A}) \\mathbf{B^TA^T}  \\big) \\\\\n",
    "    &= \\mtr\\big( \\mathbf{BA^T} \\myd \\mathbf{A} \\big) + \\mtr \\big( \\mathbf{B^TA^T} \\myd \\mathbf{A}   \\big) \\\\\n",
    "    &= \\mtr \\big(\\mathbf{(B^T + B)A^T}\\myd \\mathbf{A} \\big) \\\\\n",
    "\\end{align*}"
   ]
  },
  {
   "cell_type": "markdown",
   "metadata": {
    "collapsed": true
   },
   "source": [
    "根据梯度矩阵的辨识规则\n",
    "$$ \n",
    "    \\newcommand{\\myd}{\\mathrm{d}}\n",
    "    \\newcommand{\\mtr}{\\mathrm{tr}}\n",
    "    \\myd f(\\mathbf{X}) = \\mtr (A \\myd \\mathbf{X}) \\quad \\Rightarrow \\quad \\nabla_\\mathbf{X} f(\\mathbf{X}) = A^T\n",
    "  $$"
   ]
  },
  {
   "cell_type": "markdown",
   "metadata": {},
   "source": [
    "所以"
   ]
  },
  {
   "cell_type": "markdown",
   "metadata": {},
   "source": [
    "\\begin{align*}\n",
    " \\frac{\\partial tr(\\mathbf{ABA^T})}{\\partial \\mathbf{A}} = \\big(\\mathbf{(B^T + B)A^T}\\big)^T = \\mathbf{A(B+B^T)}\n",
    "\\end{align*}"
   ]
  },
  {
   "cell_type": "code",
   "execution_count": null,
   "metadata": {
    "collapsed": true
   },
   "outputs": [],
   "source": []
  }
 ],
 "metadata": {
  "kernelspec": {
   "display_name": "Python 3",
   "language": "python",
   "name": "python3"
  },
  "language_info": {
   "codemirror_mode": {
    "name": "ipython",
    "version": 3
   },
   "file_extension": ".py",
   "mimetype": "text/x-python",
   "name": "python",
   "nbconvert_exporter": "python",
   "pygments_lexer": "ipython3",
   "version": "3.6.3"
  }
 },
 "nbformat": 4,
 "nbformat_minor": 2
}
